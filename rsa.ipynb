{
 "cells": [
  {
   "cell_type": "code",
   "execution_count": 20,
   "id": "684c0b5d-4a26-4c8a-9c79-42f8e5d7b305",
   "metadata": {
    "tags": []
   },
   "outputs": [
    {
     "name": "stdout",
     "output_type": "stream",
     "text": [
      "[ 31226915760931149579669933955019171573754504070795725815373670049085626027487561300600140444252797793927272605358668995983074468790580398284002547586266449173675036973095475888715880174061758679175688187269955892468635880943203687790773943798819337033690816069379243540424479286261703238077994957337154241169940976112469279370193402478332680017643668783736405221056466230891819591042638059403064328560293172889369727914799711820289278445495826842406468530595282934326056883967560167429884606489080757569969068139563536224803946727768000892019627872330262503594085954696651184618784800128477728957516894903940300151031 , 18713175418426081075206889160876447792643728757057991657955009215651551869947938237405528965953138166693116746148586572153533551651759498912612116168007598035991705559198384765626977183277892145663711297406027126012467754960897730131127148679344218140250923295645494359161142139643246352782175951885911734903859118995899952499022221532891030954248364801426164585874543139492183398404708338108647299867035557363240336477977535688147595505433905850546834161463464632793991379088097877246098486323098484325806518880291066983470881980260990959938946622825012038995852568850633270628798175931435249675091797627990740500167 ]\n"
     ]
    }
   ],
   "source": [
    "from qiskit import QuantumCircuit, transpile, assemble\n",
    "from qiskit import IBMQ, Aer, execute\n",
    "from qiskit.providers.ibmq import least_busy\n",
    "import sympy\n",
    "\n",
    "def quantum_true_random_number_generation(num_qubits, shots):\n",
    "    circuit = QuantumCircuit(num_qubits, num_qubits)\n",
    "    for i in range(num_qubits):\n",
    "        circuit.h(i)\n",
    "    circuit.measure(range(num_qubits), range(num_qubits))\n",
    "    simulator = Aer.get_backend('qasm_simulator')\n",
    "    job = execute(circuit, simulator, shots=shots)\n",
    "    result = job.result()\n",
    "    counts = result.get_counts(circuit)\n",
    "\n",
    "    # Przekształcenie wyników na liczby\n",
    "    random_numbers = []\n",
    "    for binary, count in counts.items():\n",
    "        number = int(binary, 2)\n",
    "        random_numbers.append(number)\n",
    "\n",
    "    return random_numbers\n",
    "\n",
    "# Wywołanie procedury TRNG\n",
    "num_qubits = 2048\n",
    "shots = 2\n",
    "random_numbers = quantum_true_random_number_generation(num_qubits, shots)\n",
    "\n",
    "\n",
    "random_num1 = sympy.prevprime(random_numbers[0])\n",
    "random_num2 = sympy.prevprime(random_numbers[1])\n",
    "print(\"[\", random_num1, \",\", random_num2, \"]\")\n"
   ]
  },
  {
   "cell_type": "code",
   "execution_count": 21,
   "id": "43afd23b-37e3-4704-ad0e-fcfaaec38803",
   "metadata": {
    "tags": []
   },
   "outputs": [],
   "source": [
    "from cryptography.hazmat.primitives import serialization, hashes\n",
    "from cryptography.hazmat.primitives.asymmetric import rsa, padding, utils\n",
    "\n",
    "def gcd(a, b):\n",
    "    if b > 0:\n",
    "        return gcd(b, a % b)\n",
    "    return a\n",
    "\n",
    "def find_mod_inverse(a, m):\n",
    "    if gcd(a, m) != 1:\n",
    "        return None\n",
    "    u1, u2, u3 = 1, 0, a\n",
    "    v1, v2, v3 = 0, 1, m\n",
    "\n",
    "    while v3 != 0:\n",
    "        q = u3 // v3\n",
    "        v1, v2, v3, u1, u2, u3 = (u1 - q * v1), (u2 - q * v2), (u3 - q * v3), v1, v2, v3\n",
    "    return u1 % m\n",
    "\n",
    "def createKeys():\n",
    "    import random\n",
    "    p = random_num1\n",
    "    q = random_num2\n",
    "    \n",
    "    n = p * q\n",
    "    phiN = (p - 1) * (q - 1)\n",
    "\n",
    "    while True:\n",
    "        e = random.randrange(1, phiN)\n",
    "        g = gcd(e, phiN)\n",
    "        if g == 1:\n",
    "            break\n",
    "\n",
    "    \n",
    "    d = find_mod_inverse(e, phiN)\n",
    "\n",
    "    dmp1 = d % (p-1)\n",
    "    dmq1 = d % (q-1)\n",
    "    iqmp = pow(q, -1, p)\n",
    "    publicKey = rsa.RSAPublicNumbers(e=e, n=n).public_key()\n",
    "    privateKey = rsa.RSAPrivateNumbers(\n",
    "        p=p,\n",
    "        q=q,\n",
    "        d=d,\n",
    "        dmp1=dmp1,\n",
    "        dmq1=dmq1,\n",
    "        iqmp=iqmp,\n",
    "        public_numbers=rsa.RSAPublicNumbers(e=e, n=n)\n",
    "    ).private_key()\n",
    "\n",
    "    return privateKey, publicKey\n",
    "    \n",
    "def RSAPrivateToPEM(privateKey):\n",
    "    pemPrivateKey = privateKey.private_bytes(\n",
    "        encoding=serialization.Encoding.PEM,\n",
    "        format=serialization.PrivateFormat.PKCS8,\n",
    "        encryption_algorithm=serialization.NoEncryption(),\n",
    "    )\n",
    "    \n",
    "    return pemPrivateKey\n",
    "\n",
    "# Convert the raw public key to PEM form\n",
    "def RSAPublicToPEM(publicKey):\n",
    "    pemPublicKey = publicKey.public_bytes(\n",
    "        encoding=serialization.Encoding.PEM,\n",
    "        format=serialization.PublicFormat.SubjectPublicKeyInfo,\n",
    "    )\n",
    "\n",
    "    return pemPublicKey\n",
    "\n",
    "myPrivateKey, myPublicKey = createKeys()\n",
    "PEMPrivateKey = RSAPrivateToPEM(myPrivateKey)\n",
    "PEMPublicKey = RSAPublicToPEM(myPublicKey)\n",
    "\n",
    "with open(\"private_key.pem\", \"wb\") as pem_file:\n",
    "  pem_file.write(PEMPrivateKey)\n",
    "with open(\"public_key.pem\", \"wb\") as pem_file:\n",
    "  pem_file.write(PEMPublicKey)\n"
   ]
  },
  {
   "cell_type": "code",
   "execution_count": null,
   "id": "120973fc-420d-412e-86d2-3492f6722694",
   "metadata": {},
   "outputs": [],
   "source": []
  },
  {
   "cell_type": "code",
   "execution_count": null,
   "id": "19679e62-500f-4cf6-9d65-ebb1a2be1bba",
   "metadata": {},
   "outputs": [],
   "source": []
  }
 ],
 "metadata": {
  "kernelspec": {
   "display_name": "Python 3 (ipykernel)",
   "language": "python",
   "name": "python3"
  },
  "language_info": {
   "codemirror_mode": {
    "name": "ipython",
    "version": 3
   },
   "file_extension": ".py",
   "mimetype": "text/x-python",
   "name": "python",
   "nbconvert_exporter": "python",
   "pygments_lexer": "ipython3",
   "version": "3.10.8"
  },
  "widgets": {
   "application/vnd.jupyter.widget-state+json": {
    "state": {},
    "version_major": 2,
    "version_minor": 0
   }
  }
 },
 "nbformat": 4,
 "nbformat_minor": 5
}
